{
  "nbformat": 4,
  "nbformat_minor": 0,
  "metadata": {
    "colab": {
      "provenance": [],
      "authorship_tag": "ABX9TyMTXOPT80VDoeLH0WjiJYom",
      "include_colab_link": true
    },
    "kernelspec": {
      "name": "python3",
      "display_name": "Python 3"
    },
    "language_info": {
      "name": "python"
    }
  },
  "cells": [
    {
      "cell_type": "markdown",
      "metadata": {
        "id": "view-in-github",
        "colab_type": "text"
      },
      "source": [
        "<a href=\"https://colab.research.google.com/github/anavarge2025/Gerador-de-senha/blob/main/palavras_dificeis.ipynb\" target=\"_parent\"><img src=\"https://colab.research.google.com/assets/colab-badge.svg\" alt=\"Open In Colab\"/></a>"
      ]
    },
    {
      "cell_type": "markdown",
      "source": [
        "Palavras Dificeis - Saeb 🍓😎\n",
        "\n",
        "![images.jpeg](data:image/jpeg;base64,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)\n"
      ],
      "metadata": {
        "id": "iTS-oUI5tOcr"
      }
    },
    {
      "cell_type": "markdown",
      "source": [
        "  **sumário**\n",
        "\n",
        "🟣 palavras dificeis\n",
        "\n",
        "\n",
        "# 📎 Enunciado I :\n",
        "\n",
        "  Imagine que você está desenvolvendo uma seção de comentários em uma\n",
        "rede social. Cada comentário terá um contador de curtidas. Analise o código que demonstra a\n",
        "implementação deste contador usando HTML e JavaScript.\n",
        "\n",
        "Na linha 08 o código descreve que o contador de curtidas inicia no valor 0.\n",
        "\n",
        "**[...código da pergunta...]**\n",
        "\n",
        "Qual alternativa\n",
        "indica o valor exibido em 🟣 **<span=”curtida”>** 🟣 após clicar no botão \"Curtir\" duas vezes?"
      ],
      "metadata": {
        "id": "LcEmGbrTxhxx"
      }
    },
    {
      "cell_type": "markdown",
      "source": [],
      "metadata": {
        "id": "UJVgGNDgxhrh"
      }
    },
    {
      "cell_type": "markdown",
      "source": [],
      "metadata": {
        "id": "La93nJvuxhcW"
      }
    }
  ]
}